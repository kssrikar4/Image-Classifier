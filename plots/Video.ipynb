{
 "cells": [
  {
   "cell_type": "code",
   "execution_count": 1,
   "id": "7fb6a264-0e4a-42a0-bb07-9edb275ac102",
   "metadata": {},
   "outputs": [
    {
     "name": "stderr",
     "output_type": "stream",
     "text": [
      "2025-05-10 22:37:01.392591: E external/local_xla/xla/stream_executor/cuda/cuda_fft.cc:467] Unable to register cuFFT factory: Attempting to register factory for plugin cuFFT when one has already been registered\n",
      "WARNING: All log messages before absl::InitializeLog() is called are written to STDERR\n",
      "E0000 00:00:1746896821.408395   64716 cuda_dnn.cc:8579] Unable to register cuDNN factory: Attempting to register factory for plugin cuDNN when one has already been registered\n",
      "E0000 00:00:1746896821.413310   64716 cuda_blas.cc:1407] Unable to register cuBLAS factory: Attempting to register factory for plugin cuBLAS when one has already been registered\n",
      "W0000 00:00:1746896821.425896   64716 computation_placer.cc:177] computation placer already registered. Please check linkage and avoid linking the same target more than once.\n",
      "W0000 00:00:1746896821.425913   64716 computation_placer.cc:177] computation placer already registered. Please check linkage and avoid linking the same target more than once.\n",
      "W0000 00:00:1746896821.425915   64716 computation_placer.cc:177] computation placer already registered. Please check linkage and avoid linking the same target more than once.\n",
      "W0000 00:00:1746896821.425916   64716 computation_placer.cc:177] computation placer already registered. Please check linkage and avoid linking the same target more than once.\n",
      "2025-05-10 22:37:01.430172: I tensorflow/core/platform/cpu_feature_guard.cc:210] This TensorFlow binary is optimized to use available CPU instructions in performance-critical operations.\n",
      "To enable the following instructions: AVX2 FMA, in other operations, rebuild TensorFlow with the appropriate compiler flags.\n"
     ]
    },
    {
     "name": "stdout",
     "output_type": "stream",
     "text": [
      "Loading model from ./stanford_dogs_model/EfficientNetB0_best_model.keras...\n"
     ]
    },
    {
     "name": "stderr",
     "output_type": "stream",
     "text": [
      "I0000 00:00:1746896823.974468   64716 gpu_device.cc:2019] Created device /job:localhost/replica:0/task:0/device:GPU:0 with 3005 MB memory:  -> device: 0, name: Quadro P1000, pci bus id: 0000:01:00.0, compute capability: 6.1\n"
     ]
    },
    {
     "name": "stdout",
     "output_type": "stream",
     "text": [
      "Model loaded successfully.\n",
      "Model expects input images of size: (160, 160)\n",
      "Loading Stanford Dogs test dataset...\n",
      "Dataset loaded. Found 120 classes and 8580 test images.\n",
      "Processing 200 images to achieve a video length of approximately 60.00 seconds.\n"
     ]
    },
    {
     "name": "stderr",
     "output_type": "stream",
     "text": [
      "2025-05-10 22:37:06.312170: I tensorflow/core/kernels/data/tf_record_dataset_op.cc:387] The default buffer size is 262144, which is overridden by the user specified `buffer_size` of 8388608\n"
     ]
    },
    {
     "name": "stdout",
     "output_type": "stream",
     "text": [
      "Video frame size determined from first image: 500x332\n",
      "\n",
      "Attempting to initialize VideoWriter for stanford_dogs_predictions.avi using codec 'MJPG'...\n",
      "Video writer created: stanford_dogs_predictions.avi, Codec: MJPG, FPS: 60, Size: 500x332\n",
      "\n",
      "Starting prediction and writing to stanford_dogs_predictions.avi...\n"
     ]
    },
    {
     "name": "stderr",
     "output_type": "stream",
     "text": [
      "WARNING: All log messages before absl::InitializeLog() is called are written to STDERR\n",
      "I0000 00:00:1746896828.107684   64801 service.cc:152] XLA service 0x7efb80047660 initialized for platform CUDA (this does not guarantee that XLA will be used). Devices:\n",
      "I0000 00:00:1746896828.107702   64801 service.cc:160]   StreamExecutor device (0): Quadro P1000, Compute Capability 6.1\n",
      "2025-05-10 22:37:08.204805: I tensorflow/compiler/mlir/tensorflow/utils/dump_mlir_util.cc:269] disabling MLIR crash reproducer, set env var `MLIR_CRASH_REPRODUCER_DIRECTORY` to enable.\n",
      "I0000 00:00:1746896828.783450   64801 cuda_dnn.cc:529] Loaded cuDNN version 90501\n",
      "I0000 00:00:1746896835.435547   64801 device_compiler.h:188] Compiled cluster using XLA!  This line is logged at most once for the lifetime of the process.\n"
     ]
    },
    {
     "name": "stdout",
     "output_type": "stream",
     "text": [
      "Processed image 200/200\n",
      "Finished writing video to stanford_dogs_predictions.avi.\n"
     ]
    },
    {
     "name": "stderr",
     "output_type": "stream",
     "text": [
      "2025-05-10 22:37:32.615174: I tensorflow/core/framework/local_rendezvous.cc:407] Local rendezvous is aborting with status: OUT_OF_RANGE: End of sequence\n"
     ]
    }
   ],
   "source": [
    "import numpy as np\n",
    "import tensorflow as tf\n",
    "import tensorflow_datasets as tfds\n",
    "import cv2\n",
    "import sys\n",
    "\n",
    "MODEL_PATH = './stanford_dogs_model/EfficientNetB0_best_model.keras'\n",
    "OUTPUT_VIDEO_FILENAME = 'stanford_dogs_predictions.avi'\n",
    "VIDEO_FPS = 60\n",
    "SECONDS_PER_IMAGE = 0.3\n",
    "TARGET_VIDEO_SECONDS = 60\n",
    "\n",
    "FRAMES_PER_IMAGE = int(VIDEO_FPS * SECONDS_PER_IMAGE)\n",
    "if FRAMES_PER_IMAGE <= 0:\n",
    "    print(\"Error: FRAMES_PER_IMAGE must be greater than 0.\")\n",
    "    sys.exit(1)\n",
    "\n",
    "TOTAL_VIDEO_FRAMES = TARGET_VIDEO_SECONDS * VIDEO_FPS\n",
    "NUM_IMAGES_TO_PROCESS = TOTAL_VIDEO_FRAMES // FRAMES_PER_IMAGE\n",
    "\n",
    "print(f\"Loading model from {MODEL_PATH}...\")\n",
    "model = tf.keras.models.load_model(MODEL_PATH)\n",
    "print(\"Model loaded successfully.\")\n",
    "\n",
    "IMG_SIZE = model.input_shape[1:3]\n",
    "if None in IMG_SIZE:\n",
    "    IMG_SIZE = (224, 224)\n",
    "\n",
    "print(f\"Model expects input images of size: {IMG_SIZE}\")\n",
    "\n",
    "print(\"Loading Stanford Dogs test dataset...\")\n",
    "try:\n",
    "    ds_test_dataset, ds_info = tfds.load(\n",
    "        'stanford_dogs',\n",
    "        split='test',\n",
    "        with_info=True,\n",
    "        as_supervised=True\n",
    "    )\n",
    "    class_names = ds_info.features['label'].names\n",
    "    test_set_size = ds_info.splits['test'].num_examples\n",
    "    print(f\"Dataset loaded. Found {len(class_names)} classes and {test_set_size} test images.\")\n",
    "\n",
    "    if NUM_IMAGES_TO_PROCESS > test_set_size:\n",
    "        print(f\"Warning: Target video length requires {NUM_IMAGES_TO_PROCESS} images, but test set only has {test_set_size}.\")\n",
    "        NUM_IMAGES_TO_PROCESS = test_set_size\n",
    "        TOTAL_VIDEO_FRAMES = NUM_IMAGES_TO_PROCESS * FRAMES_PER_IMAGE\n",
    "        TARGET_VIDEO_SECONDS = TOTAL_VIDEO_FRAMES / VIDEO_FPS\n",
    "        print(f\"Processing all {test_set_size} test images. Video length will be approximately {TARGET_VIDEO_SECONDS:.2f} seconds.\")\n",
    "    else:\n",
    "         print(f\"Processing {NUM_IMAGES_TO_PROCESS} images to achieve a video length of approximately {TARGET_VIDEO_SECONDS:.2f} seconds.\")\n",
    "\n",
    "except Exception as e:\n",
    "    print(f\"Error loading dataset: {e}\")\n",
    "    print(\"Please ensure 'stanford_dogs' dataset is available or check your internet connection.\")\n",
    "    sys.exit(1)\n",
    "\n",
    "try:\n",
    "    for first_image_tf, _ in ds_test_dataset.take(1).as_numpy_iterator():\n",
    "        frame_height, frame_width, _ = first_image_tf.shape\n",
    "        break\n",
    "    print(f\"Video frame size determined from first image: {frame_width}x{frame_height}\")\n",
    "except Exception as e:\n",
    "    print(f\"Error determining frame size from dataset: {e}\")\n",
    "    sys.exit(1)\n",
    "\n",
    "fourcc = cv2.VideoWriter_fourcc(*'MJPG')\n",
    "\n",
    "print(f\"\\nAttempting to initialize VideoWriter for {OUTPUT_VIDEO_FILENAME} using codec 'MJPG'...\")\n",
    "\n",
    "try:\n",
    "    out = cv2.VideoWriter(OUTPUT_VIDEO_FILENAME, fourcc, VIDEO_FPS, (frame_width, frame_height))\n",
    "    if not out.isOpened():\n",
    "        print(f\"Error: VideoWriter not opened successfully for {OUTPUT_VIDEO_FILENAME}.\")\n",
    "        print(\"Ensure the 'MJPG' codec is available on your system and check file permissions.\")\n",
    "        sys.exit(1)\n",
    "    print(f\"Video writer created: {OUTPUT_VIDEO_FILENAME}, Codec: MJPG, FPS: {VIDEO_FPS}, Size: {frame_width}x{frame_height}\")\n",
    "except Exception as e:\n",
    "    print(f\"Error creating VideoWriter: {e}\")\n",
    "    sys.exit(1)\n",
    "\n",
    "print(f\"\\nStarting prediction and writing to {OUTPUT_VIDEO_FILENAME}...\")\n",
    "processed_images_count = 0\n",
    "\n",
    "for original_image_np, true_label_np in ds_test_dataset.take(NUM_IMAGES_TO_PROCESS).as_numpy_iterator():\n",
    "\n",
    "    image_for_model_tf = tf.convert_to_tensor(original_image_np, dtype=tf.float32)\n",
    "    image_for_model_tf = tf.image.resize(image_for_model_tf, IMG_SIZE)\n",
    "    image_for_model_tf = tf.keras.applications.efficientnet.preprocess_input(image_for_model_tf)\n",
    "    image_for_model_np = np.expand_dims(image_for_model_tf.numpy(), axis=0)\n",
    "\n",
    "    predictions = model.predict(image_for_model_np, verbose=0)\n",
    "\n",
    "    predicted_class_index = np.argmax(predictions[0])\n",
    "    confidence = predictions[0][predicted_class_index]\n",
    "    predicted_class_name = class_names[predicted_class_index]\n",
    "    true_class_name = class_names[true_label_np]\n",
    "\n",
    "    display_img_np = cv2.cvtColor(original_image_np, cv2.COLOR_RGB2BGR)\n",
    "\n",
    "    prediction_text = f\"Pred: {predicted_class_name} ({confidence:.2f})\"\n",
    "    true_text = f\"True: {true_class_name}\"\n",
    "\n",
    "    font = cv2.FONT_HERSHEY_SIMPLEX\n",
    "    font_scale = 0.8\n",
    "    font_thickness = 2\n",
    "    text_color = (0, 255, 0)\n",
    "    error_color = (0, 0, 255)\n",
    "    text_background_color = (0, 0, 0)\n",
    "\n",
    "    current_text_color = text_color if predicted_class_name == true_class_name else error_color\n",
    "\n",
    "    (pred_text_width, pred_text_height), baseline_pred = cv2.getTextSize(prediction_text, font, font_scale, font_thickness)\n",
    "    (true_text_width, true_text_height), baseline_true = cv2.getTextSize(true_text, font, font_scale, font_thickness)\n",
    "\n",
    "    pred_text_origin = (10, 30)\n",
    "    true_text_origin = (10, pred_text_origin[1] + pred_text_height + 10)\n",
    "\n",
    "    padding = 5\n",
    "    cv2.rectangle(display_img_np, (pred_text_origin[0] - padding, pred_text_origin[1] - pred_text_height - padding),\n",
    "                  (pred_text_origin[0] + pred_text_width + padding, pred_text_origin[1] + baseline_pred + padding),\n",
    "                  text_background_color, -1)\n",
    "\n",
    "    cv2.rectangle(display_img_np, (true_text_origin[0] - padding, true_text_origin[1] - true_text_height - padding),\n",
    "                  (true_text_origin[0] + true_text_width + padding, true_text_origin[1] + baseline_true + padding),\n",
    "                  text_background_color, -1)\n",
    "\n",
    "\n",
    "    cv2.putText(display_img_np, prediction_text, pred_text_origin, font, font_scale, current_text_color, font_thickness, cv2.LINE_AA)\n",
    "    cv2.putText(display_img_np, true_text, true_text_origin, font, font_scale, text_color, font_thickness, cv2.LINE_AA)\n",
    "\n",
    "\n",
    "    if out.isOpened():\n",
    "        for _ in range(FRAMES_PER_IMAGE):\n",
    "            out.write(display_img_np)\n",
    "    else:\n",
    "        print(\"\\nError: VideoWriter is no longer open. Stopping writing.\")\n",
    "        break\n",
    "\n",
    "    processed_images_count += 1\n",
    "    print(f\"Processed image {processed_images_count}/{NUM_IMAGES_TO_PROCESS}\", end='\\r')\n",
    "\n",
    "if out is not None and out.isOpened():\n",
    "    out.release()\n",
    "    print(f\"\\nFinished writing video to {OUTPUT_VIDEO_FILENAME}.\")\n",
    "elif out is not None:\n",
    "    print(f\"\\nVideo writer was not open at the end. No video file might have been written or it could be corrupt: {OUTPUT_VIDEO_FILENAME}\")\n",
    "else:\n",
    "    print(\"\\nVideo writer was not initialized.\")"
   ]
  }
 ],
 "metadata": {
  "kernelspec": {
   "display_name": "Python 3 (ipykernel)",
   "language": "python",
   "name": "python3"
  },
  "language_info": {
   "codemirror_mode": {
    "name": "ipython",
    "version": 3
   },
   "file_extension": ".py",
   "mimetype": "text/x-python",
   "name": "python",
   "nbconvert_exporter": "python",
   "pygments_lexer": "ipython3",
   "version": "3.12.3"
  }
 },
 "nbformat": 4,
 "nbformat_minor": 5
}
